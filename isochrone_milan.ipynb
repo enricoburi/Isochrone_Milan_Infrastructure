{
 "cells": [
  {
   "cell_type": "markdown",
   "metadata": {},
   "source": [
    "# Isochrone of Milan's Infrastructures\n",
    "_\"An isochrone map in urban planning is a map that depicts the area accessible from a point within a certain time/distance threshold.\"_\n",
    "\n",
    "(Original inspiration: https://betterprogramming.pub/creating-a-traveling-distance-map-for-a-whole-city-with-python-f2e063272832)"
   ]
  },
  {
   "cell_type": "markdown",
   "metadata": {},
   "source": [
    "## Setup"
   ]
  },
  {
   "cell_type": "markdown",
   "metadata": {},
   "source": [
    "### Packages & Settings"
   ]
  },
  {
   "cell_type": "code",
   "execution_count": null,
   "metadata": {},
   "outputs": [],
   "source": [
    "# to store and process data\n",
    "import pandas as pd\n",
    "import geopandas as gpd\n",
    "import numpy as np\n",
    "from tqdm import tqdm\n",
    "\n",
    "# to create city's street graph and work with it\n",
    "from geopy.point import Point\n",
    "from geopy.distance import geodesic\n",
    "import osmnx as ox\n",
    "import networkx as nx\n",
    "\n",
    "# to plot isochrones\n",
    "import folium\n",
    "import branca.colormap\n",
    "\n",
    "# to handle data import/export\n",
    "from urllib.request import urlopen\n",
    "from io import BytesIO\n",
    "import pickle"
   ]
  },
  {
   "cell_type": "code",
   "execution_count": null,
   "metadata": {},
   "outputs": [],
   "source": [
    "tqdm.pandas()"
   ]
  },
  {
   "cell_type": "markdown",
   "metadata": {},
   "source": [
    "### Utils"
   ]
  },
  {
   "cell_type": "code",
   "execution_count": null,
   "metadata": {},
   "outputs": [],
   "source": [
    "class DictSmallest(dict):\n",
    "    '''\n",
    "    A dictionary that only updates a value if the provided one is smaller than the one already present (or if the value is currently not present)\n",
    "    '''\n",
    "\n",
    "    def __setitem__(self, key, value):\n",
    "        if (key not in self) or (key in self and self[key] > value):\n",
    "            dict.__setitem__(self, key, value)\n",
    "\n",
    "    def update(self, dict):\n",
    "        for key, value in dict.items():\n",
    "            if (key not in self) or (key in self and self[key] > value):\n",
    "                self[key] =  value"
   ]
  },
  {
   "cell_type": "code",
   "execution_count": null,
   "metadata": {},
   "outputs": [],
   "source": [
    "def perc(num, den):\n",
    "    return round(num/den*100, 2)"
   ]
  },
  {
   "cell_type": "markdown",
   "metadata": {},
   "source": [
    "## Data Import & Preparation"
   ]
  },
  {
   "cell_type": "markdown",
   "metadata": {},
   "source": [
    "### Milan Open Data"
   ]
  },
  {
   "cell_type": "code",
   "execution_count": null,
   "metadata": {},
   "outputs": [],
   "source": [
    "def import_geojson(url):\n",
    "\n",
    "    file = BytesIO(urlopen(url).read())\n",
    "    gdf = gpd.read_file(file)\n",
    "\n",
    "    return gdf"
   ]
  },
  {
   "cell_type": "code",
   "execution_count": null,
   "metadata": {},
   "outputs": [],
   "source": [
    "def keys_relationship(df, colA:str, colB:str):\n",
    "    '''\n",
    "    Function to quickly analyze the relationship between two keys within the same dataset\n",
    "    '''\n",
    "\n",
    "    count1 = df.groupby(colA).nunique()[colB].sort_values(ascending=False).iloc[0]\n",
    "    count2 = df.groupby(colB).nunique()[colA].sort_values(ascending=False).iloc[0]\n",
    "\n",
    "    if count1 == 0 or count2 == 0:\n",
    "        relationship = \"None\"\n",
    "    elif count1 > 1 and count2 > 1:\n",
    "        relationship = \"N:N\"\n",
    "    elif count1 == 1 and count2 == 1:\n",
    "        relationship = \"1:1\"\n",
    "    elif count1 > 1:\n",
    "        relationship = \"1:N\"\n",
    "    else:\n",
    "        relationship = \"N:1\"\n",
    "\n",
    "    return f\"'{colA}','{colB}'\\t{relationship}\""
   ]
  },
  {
   "cell_type": "markdown",
   "metadata": {},
   "source": [
    "#### Bikeways"
   ]
  },
  {
   "cell_type": "code",
   "execution_count": null,
   "metadata": {},
   "outputs": [],
   "source": [
    "bike_ciclabili = import_geojson(\"https://dati.comune.milano.it/dataset/ceda0264-24f3-4869-9a2d-411906f0abab/resource/56515ac3-e260-4ebb-bfce-698347f07e1e/download/bike_ciclabili.geojson\")\n",
    "bike_ciclabili"
   ]
  },
  {
   "cell_type": "code",
   "execution_count": null,
   "metadata": {},
   "outputs": [],
   "source": [
    "bike_ciclabili[\"lunghezza\"] = bike_ciclabili[\"lunghezza\"].astype(int)\n",
    "bike_ciclabili.dtypes"
   ]
  },
  {
   "cell_type": "code",
   "execution_count": null,
   "metadata": {},
   "outputs": [],
   "source": [
    "print(keys_relationship(bike_ciclabili, \"id_via\", \"id_amat\"))\n",
    "print(keys_relationship(bike_ciclabili, \"id_via\", \"anagrafica\"))\n",
    "print(keys_relationship(bike_ciclabili, \"anagrafica\", \"id_amat\"))"
   ]
  },
  {
   "cell_type": "code",
   "execution_count": null,
   "metadata": {},
   "outputs": [],
   "source": [
    "bike_lanes = bike_ciclabili[\"geometry\"].get_coordinates().join(bike_ciclabili[[\"id_amat\", \"id_via\", \"anagrafica\", \"rete\", \"tipologia\", \"sede\", \"marcia\", \"lunghezza\"]]) # explode to as many rows as points in the geometry\n",
    "bike_lanes.columns = [\"bike_lanes_\" + col for col in bike_lanes.columns]\n",
    "\n",
    "n_points_bike_lanes = bike_lanes.shape[0]\n",
    "n_points_bike_lanes_cicle = bike_lanes[bike_lanes[\"bike_lanes_rete\"] == \"ciclabile\"].shape[0]\n",
    "n_points_bike_lanes_cicle_own_path = bike_lanes[bike_lanes[\"bike_lanes_tipologia\"] == \"ciclabile sede propria\"].shape[0]\n",
    "\n",
    "bike_lanes_x_min = bike_lanes['bike_lanes_x'].min()\n",
    "bike_lanes_x_max = bike_lanes['bike_lanes_x'].max()\n",
    "bike_lanes_y_min = bike_lanes['bike_lanes_y'].min()\n",
    "bike_lanes_y_max = bike_lanes['bike_lanes_y'].max()\n",
    "bike_lanes_extreme_sw = Point(bike_lanes_y_min, bike_lanes_x_min) # coordinates of the extremes of the cicle bike_lanes' map\n",
    "bike_lanes_extreme_se = Point(bike_lanes_y_min, bike_lanes_x_max)\n",
    "bike_lanes_extreme_nw = Point(bike_lanes_y_max, bike_lanes_x_min)\n",
    "bike_lanes_size_x = geodesic(bike_lanes_extreme_sw, bike_lanes_extreme_se).km # size of the cicle bike_lanes' map in kilometers\n",
    "bike_lanes_size_y = geodesic(bike_lanes_extreme_sw, bike_lanes_extreme_nw).km\n",
    "\n",
    "print(f\"Points all lanes:\\t\\t{n_points_bike_lanes}\")\n",
    "print(f\"Points bikeways only:\\t\\t{n_points_bike_lanes_cicle}\\t({perc(n_points_bike_lanes_cicle, n_points_bike_lanes)}% of total)\")\n",
    "print(f\"Points protected bikeways only:\\t{n_points_bike_lanes_cicle_own_path}\\t({perc(n_points_bike_lanes_cicle_own_path, n_points_bike_lanes)}% of total)\")\n",
    "print(f\"\\nMinimal map surface needed:\\t{round(bike_lanes_size_x, 2)}km x {round(bike_lanes_size_y, 2)}km\")"
   ]
  },
  {
   "cell_type": "code",
   "execution_count": null,
   "metadata": {},
   "outputs": [],
   "source": [
    "with open(\"data/raw/milan_open_data/bike_ciclabili.pickle\", \"wb\") as file:\n",
    "    pickle.dump(bike_ciclabili, file)"
   ]
  },
  {
   "cell_type": "markdown",
   "metadata": {},
   "source": [
    "#### Bike Sharing Stations (not used yet)"
   ]
  },
  {
   "cell_type": "code",
   "execution_count": null,
   "metadata": {},
   "outputs": [],
   "source": [
    "bikemi_stazioni = import_geojson(\"https://dati.comune.milano.it/dataset/cc065002-cd21-4dcb-b84f-bba2fd9e0c86/resource/2d0bafbc-1739-4a14-9e5a-71a648e1fc5b/download/bikemi_stazioni.geojson\")\n",
    "bikemi_stazioni"
   ]
  },
  {
   "cell_type": "code",
   "execution_count": null,
   "metadata": {},
   "outputs": [],
   "source": [
    "bikemi_stazioni[\"stalli\"] = bikemi_stazioni[\"stalli\"].astype(int)\n",
    "bikemi_stazioni[\"zd_attuale\"] = bikemi_stazioni[\"zd_attuale\"].astype(int)\n",
    "# bikemi_stazioni[\"anno\"] = bikemi_stazioni[\"anno\"].astype(int)\n",
    "bikemi_stazioni.dtypes"
   ]
  },
  {
   "cell_type": "code",
   "execution_count": null,
   "metadata": {},
   "outputs": [],
   "source": [
    "# with open(\"data/raw/milan_open_data/bikemi_stazioni.pickle\", \"wb\") as file:\n",
    "#     pickle.dump(bikemi_stazioni, file)"
   ]
  },
  {
   "cell_type": "markdown",
   "metadata": {},
   "source": [
    "### OpenStreetMap Network"
   ]
  },
  {
   "cell_type": "code",
   "execution_count": null,
   "metadata": {},
   "outputs": [],
   "source": [
    "G = ox.graph_from_address(\"Milan, Italy\",\n",
    "    dist=10000,\n",
    "    network_type=\"walk\",\n",
    "    simplify=True) # remove nodes which are not intersection or dead ends\n",
    "\n",
    "city = ox.graph_to_gdfs(G, edges=False)\n",
    "\n",
    "print(f\"Nodes: {city.shape[0]}\")"
   ]
  },
  {
   "cell_type": "code",
   "execution_count": null,
   "metadata": {},
   "outputs": [],
   "source": [
    "with open(\"G_milan.pickle\", \"wb\") as file:\n",
    "    pickle.dump(G, file)"
   ]
  },
  {
   "cell_type": "markdown",
   "metadata": {},
   "source": [
    "## Compute Driving Distances"
   ]
  },
  {
   "cell_type": "code",
   "execution_count": null,
   "metadata": {},
   "outputs": [],
   "source": [
    "# For each point of the cicle lanes, find the nearest node in the street network - its \"access point\" to whole network\n",
    "\n",
    "bike_lanes[\"nearest_node\"] = bike_lanes.progress_apply(lambda row: ox.distance.nearest_nodes(G, Y=row[\"lanes_y\"], X=row[\"lanes_x\"]), axis=1)\n",
    "\n",
    "with open(\"data/processed/milan_open_data/bike_lanes.pickle\", \"wb\") as file:\n",
    "    pickle.dump(bike_lanes, file)"
   ]
  },
  {
   "cell_type": "code",
   "execution_count": null,
   "metadata": {},
   "outputs": [],
   "source": [
    "def compute_node_distances(G, points_of_interest, weight:str=\"length\"):\n",
    "    '''\n",
    "    Given the entire graph and a list nodes identifiers corresponding to some points of interest\n",
    "    Returns the length of the shortest path from each node to the closest point of interest\n",
    "    '''\n",
    "\n",
    "    node_distances = DictSmallest()\n",
    "\n",
    "    for point in tqdm(range(points_of_interest.shape[0])):\n",
    "        temp = nx.shortest_path_length(G, points_of_interest.iloc[point], weight=weight)\n",
    "        node_distances.update(temp)\n",
    "    \n",
    "    coordinates_distances = {\n",
    "        key: {\"x\": G.nodes[key][\"x\"], \"y\": G.nodes[key][\"y\"], \"distance\": node_distances[key]}\n",
    "        for key in list(G.nodes())\n",
    "        }\n",
    "    \n",
    "    return coordinates_distances"
   ]
  },
  {
   "cell_type": "code",
   "execution_count": null,
   "metadata": {},
   "outputs": [],
   "source": [
    "# For each node in the network, compute the shortest driving distance to one of those that were identified as \"access points\" to the cicle lanes\n",
    "# Unfortunately, we do not have space to store a matrix with all distances: we can use DictSmallest to solve the problem, but we'll have to repeat the computation at every variation of the list of points of interest\n",
    "\n",
    "distances_bike_lanes = compute_node_distances(G, bike_lanes[\"nearest_node\"])\n",
    "with open('data/processed/distances/distances_bike_lanes.pickle', 'wb') as file:\n",
    "    pickle.dump(distances_bike_lanes, file)\n",
    "\n",
    "distances_bike_lanes_protected = compute_node_distances(G, bike_lanes.loc[bike_lanes[\"lanes_tipologia\"] == \"ciclabile sede propria\", \"nearest_node\"])\n",
    "with open('data/processed/distances/distances_bike_lanes_protected.pickle', 'wb') as file:\n",
    "    pickle.dump(distances_bike_lanes_protected, file)"
   ]
  },
  {
   "cell_type": "markdown",
   "metadata": {},
   "source": [
    "## Plot Isochrone"
   ]
  },
  {
   "cell_type": "code",
   "execution_count": null,
   "metadata": {},
   "outputs": [],
   "source": [
    "# with open('data/raw/milan_open_data/bike_ciclabili.pickle', 'rb') as file:\n",
    "#     bike_ciclabili = pickle.load(file)\n",
    "\n",
    "# with open('data/processed/distances/distances_bike_lanes.pickle', 'rb') as file:\n",
    "#     distances_bike_lanes = pickle.load(file)\n",
    "\n",
    "# with open('data/processed/distances/distances_bike_lanes_protected.pickle', 'rb') as file:\n",
    "#     distances_bike_lanes_protected = pickle.load(file)"
   ]
  },
  {
   "cell_type": "code",
   "execution_count": null,
   "metadata": {},
   "outputs": [],
   "source": [
    "def isochrone(distances, geometry_data=None, geometry_on_hover:str=None, scale_min:int=0, scale_max:int=31, scale_step:int=1, scale_cmap:str=\"plasma\", map_tiles:str=\"cartodb positron\", dot_radius:int=50, dot_opacity:float=.3, start_zoom:int=12, start_location:list=[45.464098, 9.191926]):\n",
    "\n",
    "    scale = range(scale_min, scale_max, scale_step)\n",
    "\n",
    "    iso_colors = ox.plot.get_colors(n=len(scale), cmap=scale_cmap, start=0.3, return_hex=True)\n",
    "    iso_colors.reverse()\n",
    "    colormap = branca.colormap.LinearColormap(colors=iso_colors)\n",
    "    colormap = colormap.to_step(index=scale)\n",
    "\n",
    "    def color_mapping_function(val, iso_colors):\n",
    "        for time, color in zip(scale, iso_colors):\n",
    "            if val < time :\n",
    "                return color\n",
    "        return iso_colors[-1]\n",
    "    \n",
    "    colored_distances = distances.copy()\n",
    "    for node in colored_distances:\n",
    "        colored_distances[node][\"color\"] = color_mapping_function(colored_distances[node][\"distance\"], iso_colors)\n",
    "    \n",
    "    colormap = branca.colormap.LinearColormap(colors=iso_colors)\n",
    "    colormap = colormap.to_step(index=scale)\n",
    "\n",
    "    m = folium.Map(\n",
    "        location=start_location,\n",
    "        zoom_start=start_zoom,\n",
    "        prefer_canvas=True,\n",
    "        tiles=map_tiles\n",
    "    )\n",
    "\n",
    "    for val in colored_distances.values():\n",
    "        folium.Circle(\n",
    "            location=[val[\"y\"], val[\"x\"]],\n",
    "            radius=dot_radius,\n",
    "            stroke=False,\n",
    "            fill=True,\n",
    "            color=val[\"color\"],\n",
    "            fill_opacity=dot_opacity,\n",
    "            interactive=False,\n",
    "        ).add_to(m)\n",
    "    colormap.add_to(m)\n",
    "\n",
    "    if geometry_data is not None:\n",
    "        for _, r in geometry_data.iterrows():\n",
    "            sim_geo = gpd.GeoSeries(r[\"geometry\"]).simplify(tolerance=0.001)\n",
    "            geo_j = sim_geo.to_json()\n",
    "            geo_j = folium.GeoJson(data=geo_j)\n",
    "            if geometry_on_hover is not None:\n",
    "                folium.Popup(r[geometry_on_hover]).add_to(geo_j)\n",
    "            geo_j.add_to(m)\n",
    "\n",
    "    return m"
   ]
  },
  {
   "cell_type": "code",
   "execution_count": null,
   "metadata": {},
   "outputs": [],
   "source": [
    "isochrone(distances_bike_lanes, geometry_data=bike_ciclabili, geometry_on_hover=\"anagrafica\", dot_opacity=.1, dot_radius=45, scale_min=0, scale_max=1500)"
   ]
  },
  {
   "cell_type": "code",
   "execution_count": null,
   "metadata": {},
   "outputs": [],
   "source": [
    "isochrone(distances_bike_lanes_protected, geometry_data=bike_ciclabili.loc[bike_ciclabili[\"tipologia\"] == \"ciclabile sede propria\"], geometry_on_hover=\"anagrafica\", dot_opacity=.1, dot_radius=45, scale_min=0, scale_max=1500)"
   ]
  }
 ],
 "metadata": {
  "kernelspec": {
   "display_name": "base",
   "language": "python",
   "name": "python3"
  },
  "language_info": {
   "codemirror_mode": {
    "name": "ipython",
    "version": 3
   },
   "file_extension": ".py",
   "mimetype": "text/x-python",
   "name": "python",
   "nbconvert_exporter": "python",
   "pygments_lexer": "ipython3",
   "version": "3.11.4"
  },
  "orig_nbformat": 4
 },
 "nbformat": 4,
 "nbformat_minor": 2
}
